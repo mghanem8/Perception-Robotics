{
  "cells": [
    {
      "cell_type": "markdown",
      "id": "ad392de4",
      "metadata": {
        "id": "ad392de4"
      },
      "source": [
        "# CS3630 Project 1: Trash Sorting Robot (Fall 2022)\n",
        "## Brief\n",
        "- Due: Tue, Sep 13 at 11:59pm on gradescope\n",
        "- Hand-in: through Gradescope\n",
        "\n",
        "## Getting started\n",
        "In order to use a file as your own, once we give you the colab notebook link:\n",
        "1. Click the “File” button on the toolbar at the top\n",
        "2. Click “Save a Copy”\n",
        "3. Work on the project within the copy (it will say “Copy of…”)\n",
        "\n",
        "## Submission Instructions\n",
        "In order to submit a file, once you complete the project:\n",
        "1. Click the “File” button on the toolbar at the top\n",
        "2. Click “Download,”\n",
        "3. And then click “Download .ipynb”\n",
        "4. You will now have the .ipynb file on your local machine.\n",
        "5. Make sure it is named `project1.ipynb`\n",
        "6. Submit the `project1.ipynb` file to gradescope\n",
        "\n",
        "\n",
        "## Introduction\n",
        "Welcome to your first project in CS3630 (Fall 2022)!\n",
        "\n",
        "In this project, we will be building a (simulated) trash sorting robot as illustrated in the [textbook](http://www.roboticsbook.org/intro.html) for this course. In this scenario, the robot tries to sort trash of some pre-determined categories into corresponding bins. Please refer to [Chapter 2](http://www.roboticsbook.org/S20_sorter_intro.html) of the book for a more detailed description of the scenario. **This project is basically based on Chapter 2 of the textbook. Please use the same number and data in the textbook for each TODO.**"
      ]
    },
    {
      "cell_type": "markdown",
      "id": "_GBzDjIxrPUa",
      "metadata": {
        "id": "_GBzDjIxrPUa"
      },
      "source": [
        "First, install gtsam and import some other useful libraries."
      ]
    },
    {
      "cell_type": "code",
      "execution_count": 122,
      "id": "a459adbb",
      "metadata": {
        "id": "a459adbb"
      },
      "outputs": [],
      "source": [
        "# To use on colab, run the following line\n",
        "!pip install -U -q gtbook"
      ]
    },
    {
      "cell_type": "code",
      "execution_count": 123,
      "id": "d11fd887",
      "metadata": {
        "id": "d11fd887"
      },
      "outputs": [],
      "source": [
        "#export\n",
        "import gtsam\n",
        "import numpy as np\n",
        "import math\n",
        "from enum import Enum\n",
        "from gtbook.discrete import Variables"
      ]
    },
    {
      "cell_type": "code",
      "execution_count": 124,
      "id": "AKqu7oypC2Uj",
      "metadata": {
        "id": "AKqu7oypC2Uj",
        "colab": {
          "base_uri": "https://localhost:8080/"
        },
        "outputId": "5c6ee736-ee23-499f-e133-3a5de936db3a"
      },
      "outputs": [
        {
          "output_type": "stream",
          "name": "stdout",
          "text": [
            "The autoreload extension is already loaded. To reload it, use:\n",
            "  %reload_ext autoreload\n"
          ]
        }
      ],
      "source": [
        "%load_ext autoreload\n",
        "%autoreload 2"
      ]
    },
    {
      "cell_type": "code",
      "execution_count": 125,
      "id": "9c2bcebc",
      "metadata": {
        "id": "9c2bcebc",
        "colab": {
          "base_uri": "https://localhost:8080/"
        },
        "outputId": "72e214bf-0b1d-4b9e-8734-2c17b998858d"
      },
      "outputs": [
        {
          "output_type": "stream",
          "name": "stdout",
          "text": [
            "/usr/local/lib/python3.7/dist-packages/gdown/cli.py:131: FutureWarning: Option `--id` was deprecated in version 4.3.1 and will be removed in 5.0. You don't need to pass it anymore to use a file ID.\n",
            "  category=FutureWarning,\n",
            "Downloading...\n",
            "From: https://drive.google.com/uc?id=1m6K4c0njbAxHlBGM8FpDYYvdNDNdaxIA\n",
            "To: /content/project1_test.py\n",
            "100% 79.9k/79.9k [00:00<00:00, 86.7MB/s]\n"
          ]
        }
      ],
      "source": [
        "# Download the project1_test file to check your code on colab\n",
        "! gdown --id 1m6K4c0njbAxHlBGM8FpDYYvdNDNdaxIA"
      ]
    },
    {
      "cell_type": "code",
      "execution_count": 126,
      "id": "27fdac2b",
      "metadata": {
        "id": "27fdac2b"
      },
      "outputs": [],
      "source": [
        "from project1_test import TestProject1\n",
        "from project1_test import verify"
      ]
    },
    {
      "cell_type": "code",
      "execution_count": 127,
      "id": "c1c07044",
      "metadata": {
        "id": "c1c07044"
      },
      "outputs": [],
      "source": [
        "np.random.seed(3630)\n",
        "unit_test = TestProject1()"
      ]
    },
    {
      "cell_type": "markdown",
      "id": "f1c590b9",
      "metadata": {
        "id": "f1c590b9"
      },
      "source": [
        "**IMPORTANT NOTE: Please use the variables provided for the results of each of the TODOs.**\n",
        "## Modeling the World State ([Book Section 2.1](http://www.roboticsbook.org/S21_sorter_state.html))\n",
        "- Functions to complete: **TODO 1**, **TODO 2**, and **TODO 3**\n",
        "- Objective: Representing the prior probabilities of the trash categories and simulate it by sampling. Please use the prior probabilities provided in the textbook"
      ]
    },
    {
      "cell_type": "code",
      "execution_count": 128,
      "id": "ed876b00",
      "metadata": {
        "id": "ed876b00"
      },
      "outputs": [],
      "source": [
        "#export\n",
        "### ENUMS ###\n",
        "class Trash(Enum):\n",
        "    CARDBOARD = 0\n",
        "    PAPER = 1\n",
        "    CAN = 2\n",
        "    SCRAP_METAL = 3\n",
        "    BOTTLE = 4\n",
        "\n",
        "\n",
        "class Bin(Enum):\n",
        "    GLASS_BIN = 0\n",
        "    METAL_BIN = 1\n",
        "    PAPER_BIN = 2\n",
        "    NOP = 3\n",
        "\n",
        "\n",
        "class Detection(Enum):\n",
        "    BOTTLE = 0\n",
        "    CARDBOARD = 1\n",
        "    PAPER = 2\n",
        "\n",
        "\n",
        "### CONSTANTS ###\n",
        "# All possible trash categories\n",
        "CATEGORIES = ['cardboard', 'paper', 'can', 'scrap_metal', 'bottle']\n",
        "\n",
        "# All possible actions/bins (nop means no action)\n",
        "ACTIONS = ['glass_bin', 'metal_bin', 'paper_bin', 'nop']\n",
        "\n",
        "\n",
        "# Useful Global Variables\n",
        "variables = Variables()\n",
        "categories = CATEGORIES\n",
        "Category = variables.discrete('Category', categories)\n",
        "Conductivity = variables.binary('Conductivity')\n",
        "Detection = variables.discrete('Detection', ['bottle', 'cardboard', 'paper'])"
      ]
    },
    {
      "cell_type": "markdown",
      "id": "250b44c4",
      "metadata": {
        "id": "250b44c4"
      },
      "source": [
        "**TODO 1 & TODO 2**:"
      ]
    },
    {
      "cell_type": "code",
      "execution_count": 129,
      "id": "ce3aaf70",
      "metadata": {
        "id": "ce3aaf70"
      },
      "outputs": [],
      "source": [
        "#export\n",
        "# TODO 1:\n",
        "# Prior probabilities\n",
        "def get_category_prior():\n",
        "    '''\n",
        "    Returns the prior probabilities of the trash categories.\n",
        "\n",
        "        Parameters:\n",
        "            None\n",
        "\n",
        "        Returns:\n",
        "            category_prior (gtsam.DiscreteDistribution): a DiscreteDistribution\n",
        "                that summarizes the prior probabilities of all trash categories\n",
        "    '''\n",
        "    category_prior = None\n",
        "    ###############################################################################\n",
        "    #                             START OF YOUR CODE                              #\n",
        "    ###############################################################################\n",
        "    category_prior = gtsam.DiscreteDistribution(Category, \"20/30/25/20/5\")\n",
        "    ###############################################################################\n",
        "    #                              END OF YOUR CODE                               #\n",
        "    ###############################################################################\n",
        "    return category_prior\n",
        "\n",
        "\n",
        "# TODO 2:\n",
        "# Prior probabilities PMF\n",
        "def get_category_prior_pmf():\n",
        "    '''\n",
        "    Returns the probability mass function (PMF) of the prior probabilities\n",
        "    of the trash categories.\n",
        "\n",
        "        Parameters:\n",
        "            None\n",
        "\n",
        "        Returns:\n",
        "            category_prior_pmf (list): a list of the PMF\n",
        "    '''\n",
        "    category_prior_pmf = None\n",
        "    ###############################################################################\n",
        "    #                             START OF YOUR CODE                              #\n",
        "    ###############################################################################\n",
        "    category_prior_pmf = get_category_prior().pmf()\n",
        "    ###############################################################################\n",
        "    #                              END OF YOUR CODE                               #\n",
        "    ###############################################################################\n",
        "    return category_prior_pmf"
      ]
    },
    {
      "cell_type": "code",
      "execution_count": 130,
      "id": "aad2506f",
      "metadata": {
        "id": "aad2506f",
        "colab": {
          "base_uri": "https://localhost:8080/"
        },
        "outputId": "d754dcd5-1f88-4860-eb16-e7edad02b22e"
      },
      "outputs": [
        {
          "output_type": "stream",
          "name": "stdout",
          "text": [
            "Testing your prior probabilities of the trash categories: \n",
            "\u001b[32m\"Correct\"\u001b[0m\n"
          ]
        }
      ],
      "source": [
        "print(\"Testing your prior probabilities of the trash categories: \")\n",
        "print(verify(unit_test.test_get_category_prior_pmf, get_category_prior_pmf))"
      ]
    },
    {
      "cell_type": "markdown",
      "id": "465cb555",
      "metadata": {
        "id": "465cb555"
      },
      "source": [
        "**TODO 3**:"
      ]
    },
    {
      "cell_type": "code",
      "execution_count": 131,
      "id": "15a2b894",
      "metadata": {
        "id": "15a2b894"
      },
      "outputs": [],
      "source": [
        "#export\n",
        "# TODO 3:\n",
        "def sample_category():\n",
        "    '''\n",
        "    Returns a sample of trash category by sampling with the prior probabilities\n",
        "    of the trash categories\n",
        "\n",
        "        Parameters:\n",
        "            None\n",
        "\n",
        "        Returns:\n",
        "            sample (int): an int indicating the sampled trash category, the\n",
        "                int-category mapping is at the beginning of this notebook\n",
        "    '''\n",
        "    sample = None\n",
        "    ###############################################################################\n",
        "    #                             START OF YOUR CODE                              #\n",
        "    ###############################################################################\n",
        "    cdf = np.cumsum(get_category_prior_pmf())\n",
        "    u = np.random.rand()\n",
        "    for category in range(5):\n",
        "        if u<float(cdf[category]):\n",
        "            sample = category\n",
        "            break\n",
        "    ###############################################################################\n",
        "    #                              END OF YOUR CODE                               #\n",
        "    ###############################################################################\n",
        "    return sample"
      ]
    },
    {
      "cell_type": "code",
      "execution_count": 132,
      "id": "91a6f7a9",
      "metadata": {
        "id": "91a6f7a9",
        "colab": {
          "base_uri": "https://localhost:8080/"
        },
        "outputId": "c666ca6a-ea74-472c-8362-3d7dc9ec473c"
      },
      "outputs": [
        {
          "output_type": "stream",
          "name": "stdout",
          "text": [
            "Testing your sample of trash category:  \u001b[32m\"Correct\"\u001b[0m\n"
          ]
        }
      ],
      "source": [
        "print(\"Testing your sample of trash category: \", verify(unit_test.test_sample_category, sample_category))\n"
      ]
    },
    {
      "cell_type": "markdown",
      "id": "6b82b6b8",
      "metadata": {
        "id": "6b82b6b8"
      },
      "source": [
        "## Actions for Sorting Trash ([Book Section 2.2](http://www.roboticsbook.org/S22_sorter_actions.html))\n",
        "- Functions to complete: **TODO 4**\n",
        "- Objective: Representing actions and their corresponding costs, please use the data provided in the textbook"
      ]
    },
    {
      "cell_type": "code",
      "execution_count": 133,
      "id": "9e26f59f",
      "metadata": {
        "id": "9e26f59f"
      },
      "outputs": [],
      "source": [
        "#export\n",
        "# TODO 4:\n",
        "'''\n",
        "    Fill out the cost table with corresponding costs, where the rows correspond\n",
        "    to ACTIONS and the columns correspond to CATEGORIES.\n",
        "'''\n",
        "COST_TABLE = None\n",
        "###############################################################################\n",
        "#                             START OF YOUR CODE                              #\n",
        "###############################################################################\n",
        "COST_TABLE = np.array([[2,  2,  4,  6,  0],\n",
        "                 [1,  1,  0,  0,  2],\n",
        "                 [0,  0,  5, 10,  3],\n",
        "                 [1,  1,  1,  1,  1]])\n",
        "###############################################################################\n",
        "#                              END OF YOUR CODE                               #\n",
        "###############################################################################"
      ]
    },
    {
      "cell_type": "markdown",
      "id": "e4e04f14",
      "metadata": {
        "id": "e4e04f14"
      },
      "source": [
        "## Sensors for Sorting Trash ([Book Section 2.3](http://www.roboticsbook.org/S23_sorter_sensing.html))\n",
        "- Functions to complete: **TODO 5-7** , **TODO 8-10** \n",
        "- Objective: Representing conditional probabilities of sensors and simulate them by sampling, please use the data provided in the textbook"
      ]
    },
    {
      "cell_type": "markdown",
      "id": "ae80ac3b",
      "metadata": {
        "id": "ae80ac3b"
      },
      "source": [
        "**TODO 5-8**:"
      ]
    },
    {
      "cell_type": "code",
      "execution_count": 134,
      "id": "a4391abe",
      "metadata": {
        "id": "a4391abe"
      },
      "outputs": [],
      "source": [
        "from os import getpgid\n",
        "from numpy.random import sample\n",
        "#export\n",
        "# TODO 5:\n",
        "# 1. Conductivity - binary sensor\n",
        "def get_pCT():\n",
        "    '''\n",
        "    Returns P(Conductivity | Trash Category)\n",
        "\n",
        "        Parameters:\n",
        "            None\n",
        "\n",
        "        Returns:\n",
        "            pCT (gtsam.DiscreteConditional): a DiscreteConditional that\n",
        "                indicates the conditinal probability of conductivity given\n",
        "                the trash category\n",
        "    '''\n",
        "    pCT = None\n",
        "    ###############################################################################\n",
        "    #                             START OF YOUR CODE                              #\n",
        "    ###############################################################################\n",
        "    pCT = gtsam.DiscreteConditional(\n",
        "    Conductivity, [Category], \"99/1 99/1 10/90 15/85 95/5\")\n",
        "    ###############################################################################\n",
        "    #                              END OF YOUR CODE                               #\n",
        "    ###############################################################################\n",
        "    return pCT\n",
        "\n",
        "# TODO 6:\n",
        "# 2. Detection - multi-valued sensor\n",
        "def get_pDT():\n",
        "    '''\n",
        "    Returns P(Detection | Trash Category)\n",
        "\n",
        "        Parameters:\n",
        "            None\n",
        "\n",
        "        Returns:\n",
        "            pDT (gtsam.DiscreteConditional): a DiscreteConditional that\n",
        "                indicates the conditinal probability of camera detection\n",
        "                given the trash category\n",
        "    '''\n",
        "    pDT = None\n",
        "    ###############################################################################\n",
        "    #                             START OF YOUR CODE                              #\n",
        "    ###############################################################################\n",
        "    pDT = gtsam.DiscreteConditional(\n",
        "    Detection, [Category], \"2/88/10 2/20/78 33/33/34 33/33/34 95/2/3\")\n",
        "    ###############################################################################\n",
        "    #                              END OF YOUR CODE                               #\n",
        "    ###############################################################################\n",
        "    return pDT\n",
        "\n",
        "# TODO 7:\n",
        "# 3. Weight - continuous-valued sensor\n",
        "def get_pWT():\n",
        "    '''\n",
        "    Returns P(Weight | Trash Category)\n",
        "\n",
        "        Parameters:\n",
        "            None\n",
        "\n",
        "        Returns:\n",
        "            pWT (np.array): a numpy array of lists that consists of the means\n",
        "                and standard deviations that define the weight distribution of each\n",
        "                trash category\n",
        "\n",
        "    '''\n",
        "    pWT = None\n",
        "    ###############################################################################\n",
        "    #                             START OF YOUR CODE                              #\n",
        "    ###############################################################################\n",
        "    pWT = np.array([[20, 10], [5, 5], [15, 5], [150, 100], [300, 200]])\n",
        "    ###############################################################################\n",
        "    #                              END OF YOUR CODE                               #\n",
        "    ###############################################################################\n",
        "    return pWT\n",
        "\n",
        "# TODO 8:\n",
        "def sample_conductivity(category=None):\n",
        "    '''\n",
        "    Returns a sample of conductivity using the conditional probability\n",
        "    given the trash category.\n",
        "\n",
        "        Parameters:\n",
        "            category (int): an int indicating the trash category\n",
        "\n",
        "        Returns:\n",
        "            conductivity (int): an int indicating the conductivity, with\n",
        "                0 being nonconductive and 1 being conductive\n",
        "    '''\n",
        "    conductivity = None\n",
        "    ###############################################################################\n",
        "    #                             START OF YOUR CODE                              #\n",
        "    ###############################################################################\n",
        "    conductivity = get_pCT().sample(category)\n",
        "    ###############################################################################\n",
        "    #                              END OF YOUR CODE                               #\n",
        "    ###############################################################################\n",
        "    return conductivity"
      ]
    },
    {
      "cell_type": "code",
      "execution_count": 135,
      "id": "a75a1ef0",
      "metadata": {
        "id": "a75a1ef0",
        "colab": {
          "base_uri": "https://localhost:8080/"
        },
        "outputId": "00d1a0d6-ca9d-4b1c-db9d-5f5494e629a1"
      },
      "outputs": [
        {
          "output_type": "stream",
          "name": "stdout",
          "text": [
            "Testing your sample conductivity:  \u001b[32m\"Correct\"\u001b[0m\n"
          ]
        }
      ],
      "source": [
        "print(\"Testing your sample conductivity: \", verify(unit_test.test_sample_conductivity, sample_conductivity))"
      ]
    },
    {
      "cell_type": "markdown",
      "id": "b7a83409",
      "metadata": {
        "id": "b7a83409"
      },
      "source": [
        "**TODO 9**:"
      ]
    },
    {
      "cell_type": "code",
      "execution_count": 136,
      "id": "68713f64",
      "metadata": {
        "id": "68713f64"
      },
      "outputs": [],
      "source": [
        "#export\n",
        "# TODO 9:\n",
        "def sample_detection(category=None):\n",
        "    '''\n",
        "    Returns a sample of detection using the conditional probability given\n",
        "    the trash category.\n",
        "\n",
        "        Parameters:\n",
        "            category (int): an int indicating the trash category\n",
        "\n",
        "        Returns:\n",
        "            detection (int): an int indicating the sampled detection, the\n",
        "                int-detection mapping is at the beginning of this notebook\n",
        "    '''\n",
        "    detection = None\n",
        "    ###############################################################################\n",
        "    #                             START OF YOUR CODE                              #\n",
        "    ###############################################################################\n",
        "    detection = get_pDT().sample(category)\n",
        "    ###############################################################################\n",
        "    #                              END OF YOUR CODE                               #\n",
        "    ###############################################################################\n",
        "    return detection"
      ]
    },
    {
      "cell_type": "code",
      "execution_count": 137,
      "id": "5d739a76",
      "metadata": {
        "id": "5d739a76",
        "colab": {
          "base_uri": "https://localhost:8080/"
        },
        "outputId": "5809f8a0-b671-4101-f1d7-b94366f6feae"
      },
      "outputs": [
        {
          "output_type": "stream",
          "name": "stdout",
          "text": [
            "Testing your sample detection:  \u001b[32m\"Correct\"\u001b[0m\n"
          ]
        }
      ],
      "source": [
        "print(\"Testing your sample detection: \", verify(unit_test.test_sample_detection, sample_detection))"
      ]
    },
    {
      "cell_type": "markdown",
      "id": "e0c54de0",
      "metadata": {
        "id": "e0c54de0"
      },
      "source": [
        "**TODO 10**:"
      ]
    },
    {
      "cell_type": "code",
      "execution_count": 138,
      "id": "c70b87c8",
      "metadata": {
        "id": "c70b87c8"
      },
      "outputs": [],
      "source": [
        "#export\n",
        "# TODO 10:\n",
        "def sample_weight(category=None):\n",
        "    '''\n",
        "    Returns a sample of weight using the conditional probability given\n",
        "    the trash category.\n",
        "\n",
        "        Parameters:\n",
        "            category (int): an int indicating the trash category\n",
        "\n",
        "        Returns:\n",
        "            weight (double): a double indicating the sampled weight\n",
        "    '''\n",
        "    weight = None\n",
        "    ###############################################################################\n",
        "    #                             START OF YOUR CODE                              #\n",
        "    ###############################################################################\n",
        "    weight = np.random.normal(*get_pWT()[category])\n",
        "    ###############################################################################\n",
        "    #                              END OF YOUR CODE                               #\n",
        "    ###############################################################################\n",
        "    return weight"
      ]
    },
    {
      "cell_type": "code",
      "execution_count": 139,
      "id": "d0dd1fda",
      "metadata": {
        "id": "d0dd1fda",
        "colab": {
          "base_uri": "https://localhost:8080/"
        },
        "outputId": "92cbb22a-aa9c-4d03-f33e-4c78fbc0e27d"
      },
      "outputs": [
        {
          "output_type": "stream",
          "name": "stdout",
          "text": [
            "Testing your sample weight:  \u001b[32m\"Correct\"\u001b[0m\n"
          ]
        }
      ],
      "source": [
        "print(\"Testing your sample weight: \", verify(unit_test.test_sample_weight, sample_weight))"
      ]
    },
    {
      "cell_type": "markdown",
      "id": "0b1128f1",
      "metadata": {
        "id": "0b1128f1"
      },
      "source": [
        "## Perception ([Book Section 2.4](http://www.roboticsbook.org/S24_sorter_perception.html))\n",
        "- Functions to complete: **TODO 11-15** \n",
        "- Objective: Calculating likelihoods using different methods given the observations from the world, please use the data provided in the textbook"
      ]
    },
    {
      "cell_type": "markdown",
      "id": "6dfd27cb",
      "metadata": {
        "id": "6dfd27cb"
      },
      "source": [
        "**TODO 11**:"
      ]
    },
    {
      "cell_type": "code",
      "execution_count": 143,
      "id": "09a5f240",
      "metadata": {
        "id": "09a5f240"
      },
      "outputs": [],
      "source": [
        "#export\n",
        "# TODO 11:\n",
        "def likelihood_no_sensors():\n",
        "    '''\n",
        "    Returns the likelihoods of all trash categories using only priors,\n",
        "    aka no sensors.\n",
        "\n",
        "        Parameters:\n",
        "            None\n",
        "\n",
        "        Returns:\n",
        "            likelihoods (list): a list of likelihoods of each trash category\n",
        "    '''\n",
        "    likelihoods = None\n",
        "    ###############################################################################\n",
        "    #                             START OF YOUR CODE                              #\n",
        "    ###############################################################################\n",
        "    likelihoods = get_category_prior_pmf()\n",
        "    ###############################################################################\n",
        "    #                              END OF YOUR CODE                               #\n",
        "    ###############################################################################\n",
        "    return likelihoods"
      ]
    },
    {
      "cell_type": "code",
      "execution_count": 144,
      "id": "1f146a38",
      "metadata": {
        "id": "1f146a38",
        "colab": {
          "base_uri": "https://localhost:8080/"
        },
        "outputId": "2509d000-c6ec-43a9-d3f2-ec2f10946091"
      },
      "outputs": [
        {
          "output_type": "stream",
          "name": "stdout",
          "text": [
            "Testing your likelihoods with no sensors: \n",
            "\u001b[32m\"Correct\"\u001b[0m\n"
          ]
        }
      ],
      "source": [
        "print(\"Testing your likelihoods with no sensors: \")\n",
        "print(verify(unit_test.test_likelihood_no_sensor, likelihood_no_sensors))"
      ]
    },
    {
      "cell_type": "markdown",
      "id": "PgKhLRjOyhl1",
      "metadata": {
        "id": "PgKhLRjOyhl1"
      },
      "source": [
        "Helper function you can use in the following TODOs"
      ]
    },
    {
      "cell_type": "code",
      "execution_count": 145,
      "id": "75b417fc",
      "metadata": {
        "id": "75b417fc"
      },
      "outputs": [],
      "source": [
        "#export\n",
        "### HELPER FUNCTIONS ###\n",
        "def Gaussian(x, mu=0.0, sigma=1.0):\n",
        "    return np.exp(-0.5 * (x - mu) ** 2 / sigma ** 2) / np.sqrt(2 * np.pi * sigma ** 2)"
      ]
    },
    {
      "cell_type": "markdown",
      "id": "ce75bda0",
      "metadata": {
        "id": "ce75bda0"
      },
      "source": [
        "**TODO 12**:"
      ]
    },
    {
      "cell_type": "code",
      "execution_count": 146,
      "id": "8fca62bc",
      "metadata": {
        "id": "8fca62bc"
      },
      "outputs": [],
      "source": [
        "#export\n",
        "# TODO 12:\n",
        "def likelihood_given_weight(weight):\n",
        "    '''\n",
        "    Returns the likelihoods of all trash categories using only the weight\n",
        "    sensor (no priors)\n",
        "\n",
        "        Parameters:\n",
        "            weight (double): a double indicating the weight of trash\n",
        "\n",
        "        Returns:\n",
        "            likelihoods (list): a list of likelihoods of each trash category\n",
        "    '''\n",
        "    likelihoods = None\n",
        "    ###############################################################################\n",
        "    #                             START OF YOUR CODE                              #\n",
        "    ###############################################################################\n",
        "    likelihoods = np.array([Gaussian(weight, *get_pWT()[index]) for index in range(5)])\n",
        "    ###############################################################################\n",
        "    #                              END OF YOUR CODE                               #\n",
        "    ###############################################################################\n",
        "    return likelihoods"
      ]
    },
    {
      "cell_type": "code",
      "execution_count": 147,
      "id": "56e8e5eb",
      "metadata": {
        "id": "56e8e5eb",
        "colab": {
          "base_uri": "https://localhost:8080/"
        },
        "outputId": "ceaa2984-664b-4733-de9f-7198b78d264a"
      },
      "outputs": [
        {
          "output_type": "stream",
          "name": "stdout",
          "text": [
            "Testing your likelihoods using only the weight sensor: \n",
            "\u001b[32m\"Correct\"\u001b[0m\n"
          ]
        }
      ],
      "source": [
        "print(\"Testing your likelihoods using only the weight sensor: \")\n",
        "print(verify(unit_test.test_likelihood_given_weight, likelihood_given_weight))"
      ]
    },
    {
      "cell_type": "markdown",
      "id": "afa2f035",
      "metadata": {
        "id": "afa2f035"
      },
      "source": [
        "**TODO 13**:"
      ]
    },
    {
      "cell_type": "code",
      "execution_count": 148,
      "id": "05c182f9",
      "metadata": {
        "id": "05c182f9"
      },
      "outputs": [],
      "source": [
        "#export\n",
        "# TODO 13:\n",
        "def likelihood_given_detection(detection):\n",
        "    '''\n",
        "    Returns the likelihoods of all trash categories using only the detection\n",
        "    sensor (no priors)\n",
        "\n",
        "        Parameters:\n",
        "            detection (int): an int indicating the sampled detection, the\n",
        "                int-detection mapping is at the beginning of this notebook\n",
        "\n",
        "        Returns:\n",
        "            likelihoods (list): a list of likelihoods of each trash category\n",
        "    '''\n",
        "    likelihoods = None\n",
        "    ###############################################################################\n",
        "    #                             START OF YOUR CODE                              #\n",
        "    ###############################################################################\n",
        "    likelihoods = [p for _, p in get_pDT().likelihood(detection).enumerate()]\n",
        "    ###############################################################################\n",
        "    #                              END OF YOUR CODE                               #\n",
        "    ###############################################################################\n",
        "    return likelihoods"
      ]
    },
    {
      "cell_type": "code",
      "execution_count": 149,
      "id": "a2e11ddd",
      "metadata": {
        "id": "a2e11ddd",
        "colab": {
          "base_uri": "https://localhost:8080/"
        },
        "outputId": "fdc7fce4-37e1-4d7e-f36e-f50fd30e6a4d"
      },
      "outputs": [
        {
          "output_type": "stream",
          "name": "stdout",
          "text": [
            "Testing your likelihoods using only the detection sensor: \n",
            "\u001b[32m\"Correct\"\u001b[0m\n"
          ]
        }
      ],
      "source": [
        "print(\"Testing your likelihoods using only the detection sensor: \")\n",
        "print(verify(unit_test.test_likelihood_given_detection, likelihood_given_detection))"
      ]
    },
    {
      "cell_type": "markdown",
      "id": "e18565a2",
      "metadata": {
        "id": "e18565a2"
      },
      "source": [
        "**TODO 14**:"
      ]
    },
    {
      "cell_type": "code",
      "execution_count": 150,
      "id": "687efa9f",
      "metadata": {
        "id": "687efa9f"
      },
      "outputs": [],
      "source": [
        "#export\n",
        "# TODO 14:\n",
        "def bayes_given_weight(weight):\n",
        "    '''\n",
        "    Returns the posteriors of all trash categories by combining the weight\n",
        "    sensor and the priors\n",
        "\n",
        "        Parameters:\n",
        "            weight (double): a double indicating the weight of the trash\n",
        "\n",
        "        Returns:\n",
        "            posteriors (list): a list of posterior probabilities of each trash category\n",
        "    '''\n",
        "    posteriors = None\n",
        "    ###############################################################################\n",
        "    #                             START OF YOUR CODE                              #\n",
        "    ###############################################################################\n",
        "    weight_factor = gtsam.DecisionTreeFactor(Category, likelihood_given_weight(weight))\n",
        "    posteriors  = gtsam.DiscreteDistribution(weight_factor * get_category_prior()).pmf()\n",
        "    ###############################################################################\n",
        "    #                              END OF YOUR CODE                               #\n",
        "    ###############################################################################\n",
        "    return posteriors"
      ]
    },
    {
      "cell_type": "code",
      "execution_count": 151,
      "id": "afa1bba2",
      "metadata": {
        "id": "afa1bba2",
        "colab": {
          "base_uri": "https://localhost:8080/"
        },
        "outputId": "673b94a9-0f68-40ee-e150-ec1bd87397ea"
      },
      "outputs": [
        {
          "output_type": "stream",
          "name": "stdout",
          "text": [
            "Testing your posteriors with the weight sensor and priors: \n",
            "\u001b[32m\"Correct\"\u001b[0m\n"
          ]
        }
      ],
      "source": [
        "print(\"Testing your posteriors with the weight sensor and priors: \")\n",
        "print(verify(unit_test.test_bayes_given_weight, bayes_given_weight))"
      ]
    },
    {
      "cell_type": "markdown",
      "id": "e935cab8",
      "metadata": {
        "id": "e935cab8"
      },
      "source": [
        "**TODO 15**"
      ]
    },
    {
      "cell_type": "code",
      "execution_count": 152,
      "id": "782dc7e7",
      "metadata": {
        "id": "782dc7e7"
      },
      "outputs": [],
      "source": [
        "#export\n",
        "# TODO 15:\n",
        "# Bayes with three sensors\n",
        "def bayes_given_three_sensors(conductivity, detection, weight):\n",
        "    '''\n",
        "    Returns the posteriors of all trash categories by combining all three\n",
        "    sensors and the priors\n",
        "\n",
        "        Parameters:\n",
        "            conductivity (int): an int indicating the conductivity, with\n",
        "                0 being nonconductive and 1 being conductive\n",
        "\n",
        "            detection (int): an int indicating the sampled detection, the\n",
        "                int-detection mapping is at the beginning of this notebook\n",
        "\n",
        "            weight (double): a double indicating the weight of the trash\n",
        "\n",
        "        Returns:\n",
        "            posteriors (list): a list of posterior probabilities of each trash category\n",
        "    '''\n",
        "    posteriors = None\n",
        "    ###############################################################################\n",
        "    #                             START OF YOUR CODE                              #\n",
        "    ###############################################################################\n",
        "    weight_factor = gtsam.DecisionTreeFactor(Category, likelihood_given_weight(weight))\n",
        "    conductivity_factor = get_pCT().likelihood(conductivity)\n",
        "    detector_factor = get_pDT().likelihood(detection)\n",
        "    posteriors  = gtsam.DiscreteDistribution(weight_factor * conductivity_factor * detector_factor* get_category_prior()).pmf()\n",
        "    ###############################################################################\n",
        "    #                              END OF YOUR CODE                               #\n",
        "    ###############################################################################\n",
        "    return posteriors"
      ]
    },
    {
      "cell_type": "code",
      "execution_count": 153,
      "id": "0b6fd1bf",
      "metadata": {
        "id": "0b6fd1bf",
        "colab": {
          "base_uri": "https://localhost:8080/"
        },
        "outputId": "e125224e-eefb-47a4-af81-ce74eb46259e"
      },
      "outputs": [
        {
          "output_type": "stream",
          "name": "stdout",
          "text": [
            "Testing your posteriors giving all three sensors: \n",
            "\u001b[32m\"Correct\"\u001b[0m\n"
          ]
        }
      ],
      "source": [
        "print(\"Testing your posteriors giving all three sensors: \")\n",
        "print(verify(unit_test.test_bayes_given_three_sensors, bayes_given_three_sensors))"
      ]
    },
    {
      "cell_type": "markdown",
      "id": "6244ad34",
      "metadata": {
        "id": "6244ad34"
      },
      "source": [
        "## Decision Theory ([Book Section 2.5](http://www.roboticsbook.org/S25_sorter_decision_theory.html))\n",
        "- Functions to complete: **TODO 16** \n",
        "- Objective: Incorporating the cost table with the perception to reach a final sorting decision"
      ]
    },
    {
      "cell_type": "markdown",
      "id": "dfdf558e",
      "metadata": {
        "id": "dfdf558e"
      },
      "source": [
        "**TODO 16**:"
      ]
    },
    {
      "cell_type": "code",
      "execution_count": 154,
      "id": "f9a3a1a1",
      "metadata": {
        "id": "f9a3a1a1"
      },
      "outputs": [],
      "source": [
        "#export\n",
        "# TODO 16:\n",
        "### DECISION ###\n",
        "def make_decision(posteriors):\n",
        "    '''\n",
        "    Returns the decision made by the robot given the likelihoods/posteriors you calculated\n",
        "\n",
        "        Parameters:\n",
        "            posteriors (list): a list of posteriors of each trash category\n",
        "\n",
        "        Returns:\n",
        "            action (int): an int indicating the action taken by the robot, the\n",
        "                int-action mapping is at the beginning of this notebook\n",
        "    '''\n",
        "    action = None\n",
        "    ###############################################################################\n",
        "    #                             START OF YOUR CODE                              #\n",
        "    ###############################################################################\n",
        "    costs = COST_TABLE @ np.array(posteriors)\n",
        "    action = np.argmin(costs)\n",
        "    ###############################################################################\n",
        "    #                              END OF YOUR CODE                               #\n",
        "    ###############################################################################\n",
        "    return action"
      ]
    },
    {
      "cell_type": "code",
      "execution_count": 155,
      "id": "ad27016b",
      "metadata": {
        "id": "ad27016b",
        "colab": {
          "base_uri": "https://localhost:8080/"
        },
        "outputId": "6be30ef7-3b59-4310-cb6e-67d3cdce6a58"
      },
      "outputs": [
        {
          "output_type": "stream",
          "name": "stdout",
          "text": [
            "Testing the decision made by your robot: \n",
            "\u001b[32m\"Correct\"\u001b[0m\n"
          ]
        }
      ],
      "source": [
        "print(\"Testing the decision made by your robot: \")\n",
        "print(verify(unit_test.test_make_decision, make_decision))"
      ]
    },
    {
      "cell_type": "code",
      "execution_count": 156,
      "id": "2778615a",
      "metadata": {
        "id": "2778615a",
        "colab": {
          "base_uri": "https://localhost:8080/"
        },
        "outputId": "405f7306-6f6a-4aea-b1d2-789afbd42237"
      },
      "outputs": [
        {
          "output_type": "stream",
          "name": "stdout",
          "text": [
            "Testing your cost without sensors: \n",
            "\u001b[32m\"Correct\"\u001b[0m\n",
            "Testing your cost using the weight sensor:\n",
            "\u001b[32m\"Correct\"\u001b[0m\n",
            "Testing your cost using the detection sensor:\n",
            "\u001b[32m\"Correct\"\u001b[0m\n",
            "Testing your cost using with the weight sensor and priors:\n",
            "\u001b[32m\"Correct\"\u001b[0m\n",
            "Testing your cost using all three sensors: \n",
            "\u001b[32m\"Correct\"\u001b[0m\n"
          ]
        }
      ],
      "source": [
        "unit_test.get_cost_table(COST_TABLE)\n",
        "print(\"Testing your cost without sensors: \")\n",
        "print(verify(unit_test.test_score_likelihood_no_sensor, likelihood_no_sensors, make_decision))\n",
        "print(\"Testing your cost using the weight sensor:\")\n",
        "print(verify(unit_test.test_score_likelihood_given_weight, likelihood_given_weight, make_decision))\n",
        "print(\"Testing your cost using the detection sensor:\")\n",
        "print(verify(unit_test.test_score_likelihood_given_detection, likelihood_given_detection, make_decision))\n",
        "print(\"Testing your cost using with the weight sensor and priors:\")\n",
        "print(verify(unit_test.test_score_bayes_given_weight, bayes_given_weight, make_decision))\n",
        "print(\"Testing your cost using all three sensors: \")\n",
        "print(verify(unit_test.test_score_bayes_given_three_sensors, bayes_given_three_sensors, make_decision))"
      ]
    },
    {
      "cell_type": "markdown",
      "id": "61f3d93c",
      "metadata": {
        "id": "61f3d93c"
      },
      "source": [
        "## Extra Credit: Learning ([Book Section 2.6](http://www.roboticsbook.org/S26_sorter_learning.html))\n",
        "A Gaussian distribution, also known as a normal distribution, is an inappropriate distribution to represent\n",
        "the weight of an item. This is because it has an infinite range and therefore sampling from it can produce\n",
        "a negative number, while an item cannot have a negative weight. A more commonly used distribution\n",
        "used to represent weight is the [log-normal distribution](https://en.wikipedia.org/wiki/Log-normal_distribution) which can only contain positive real values. The book explains how to fit a gaussian distribution to a set of data. For extra credit, we would like you to implement a function. \n",
        "- Functions to complete: **TODO 17** \n",
        "- Objective: Fit a Log-Normal Distribution to a set of data\n",
        "- Hint: There is an estimation of parameters section on the wikipedia article"
      ]
    },
    {
      "cell_type": "markdown",
      "id": "d2781da9",
      "metadata": {
        "id": "d2781da9"
      },
      "source": [
        "**TODO 17**:"
      ]
    },
    {
      "cell_type": "code",
      "execution_count": 170,
      "id": "ccc3cb6a",
      "metadata": {
        "id": "ccc3cb6a"
      },
      "outputs": [],
      "source": [
        "#export\n",
        "# TODO 17\n",
        "def fit_log_normal(data):\n",
        "    '''\n",
        "    Returns mu, sigma for a log-normal distribution\n",
        "\n",
        "        Parameters:\n",
        "            data (list of floats): A list of positive floats that represent the weight of an item\n",
        "\n",
        "        Returns:\n",
        "            mu (float), sigma (float): The mu and sigma for a log-normal distribution\n",
        "    '''\n",
        "    mu = None\n",
        "    sigma = None\n",
        "    ###############################################################################\n",
        "    #                             START OF YOUR CODE                              #\n",
        "    ###############################################################################\n",
        "    log_data = np.log(data)\n",
        "    mu = np.mean(log_data)\n",
        "    sigma = np.std(log_data)\n",
        "    ###############################################################################\n",
        "    #                              END OF YOUR CODE                               #\n",
        "    ###############################################################################\n",
        "    return mu, sigma"
      ]
    },
    {
      "cell_type": "code",
      "execution_count": 171,
      "id": "782d4b76",
      "metadata": {
        "id": "782d4b76",
        "colab": {
          "base_uri": "https://localhost:8080/"
        },
        "outputId": "1911a28d-fa0d-4e1b-b30d-7d05fb79c7d3"
      },
      "outputs": [
        {
          "output_type": "stream",
          "name": "stdout",
          "text": [
            "Testing your log-normal distribution:  \u001b[32m\"Correct\"\u001b[0m\n"
          ]
        }
      ],
      "source": [
        "print(\"Testing your log-normal distribution: \", verify(unit_test.test_fit_log_normal, fit_log_normal))"
      ]
    }
  ],
  "metadata": {
    "colab": {
      "collapsed_sections": [],
      "name": "project1.ipynb",
      "provenance": []
    },
    "kernelspec": {
      "display_name": "Python 3.8.2 64-bit",
      "language": "python",
      "name": "python3"
    },
    "language_info": {
      "codemirror_mode": {
        "name": "ipython",
        "version": 3
      },
      "file_extension": ".py",
      "mimetype": "text/x-python",
      "name": "python",
      "nbconvert_exporter": "python",
      "pygments_lexer": "ipython3",
      "version": "3.8.2"
    },
    "vscode": {
      "interpreter": {
        "hash": "31f2aee4e71d21fbe5cf8b01ff0e069b9275f58929596ceb00d14d90e3e16cd6"
      }
    }
  },
  "nbformat": 4,
  "nbformat_minor": 5
}